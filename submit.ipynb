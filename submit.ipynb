{
 "cells": [
  {
   "cell_type": "code",
   "execution_count": 1,
   "id": "173120a9-bef5-48cc-bb7e-ee7830301f0b",
   "metadata": {},
   "outputs": [],
   "source": [
    "from pyiron_base import Project"
   ]
  },
  {
   "cell_type": "code",
   "execution_count": 2,
   "id": "ef2fa4fe-88f6-4a84-93de-68cb31bc4fe8",
   "metadata": {},
   "outputs": [],
   "source": [
    "pr = Project(\"test\")"
   ]
  },
  {
   "cell_type": "code",
   "execution_count": 3,
   "id": "8f8602fb-57ae-4c79-98b2-d25fff4607ce",
   "metadata": {},
   "outputs": [
    {
     "data": {
      "application/vnd.jupyter.widget-view+json": {
       "model_id": "84e0638c8c0745f396a598346f4a1aee",
       "version_major": 2,
       "version_minor": 0
      },
      "text/plain": [
       "  0%|          | 0/1 [00:00<?, ?it/s]"
      ]
     },
     "metadata": {},
     "output_type": "display_data"
    }
   ],
   "source": [
    "pr.remove_jobs(recursive=True, silently=True)"
   ]
  },
  {
   "cell_type": "code",
   "execution_count": 4,
   "id": "36b9de7b-ec1e-4197-8448-9fbd695b9f3c",
   "metadata": {},
   "outputs": [],
   "source": [
    "job = pr.create.job.ScriptJob(\"script\")"
   ]
  },
  {
   "cell_type": "code",
   "execution_count": 5,
   "id": "c17f0cf7-405f-488c-ada8-a72a7337fb4e",
   "metadata": {},
   "outputs": [],
   "source": [
    "job.script_path = \"hostname.ipynb\""
   ]
  },
  {
   "cell_type": "code",
   "execution_count": 6,
   "id": "602cd473-1794-4a5a-99bb-6e59e38fdda7",
   "metadata": {},
   "outputs": [],
   "source": [
    "job.server.queue = \"cmti\""
   ]
  },
  {
   "cell_type": "code",
   "execution_count": 7,
   "id": "da28bed8-9456-4de9-be26-a2db3ee35c28",
   "metadata": {},
   "outputs": [
    {
     "name": "stdout",
     "output_type": "stream",
     "text": [
      "The job script was saved and received the ID: 24554067\n",
      "Queue system id:  11988217\n"
     ]
    }
   ],
   "source": [
    "job.run()"
   ]
  },
  {
   "cell_type": "code",
   "execution_count": 8,
   "id": "d7af8667-d3ce-4be5-bec7-1a60155ccad7",
   "metadata": {},
   "outputs": [
    {
     "data": {
      "text/html": [
       "<div>\n",
       "<style scoped>\n",
       "    .dataframe tbody tr th:only-of-type {\n",
       "        vertical-align: middle;\n",
       "    }\n",
       "\n",
       "    .dataframe tbody tr th {\n",
       "        vertical-align: top;\n",
       "    }\n",
       "\n",
       "    .dataframe thead th {\n",
       "        text-align: right;\n",
       "    }\n",
       "</style>\n",
       "<table border=\"1\" class=\"dataframe\">\n",
       "  <thead>\n",
       "    <tr style=\"text-align: right;\">\n",
       "      <th></th>\n",
       "      <th>id</th>\n",
       "      <th>status</th>\n",
       "      <th>chemicalformula</th>\n",
       "      <th>job</th>\n",
       "      <th>subjob</th>\n",
       "      <th>projectpath</th>\n",
       "      <th>project</th>\n",
       "      <th>timestart</th>\n",
       "      <th>timestop</th>\n",
       "      <th>totalcputime</th>\n",
       "      <th>computer</th>\n",
       "      <th>hamilton</th>\n",
       "      <th>hamversion</th>\n",
       "      <th>parentid</th>\n",
       "      <th>masterid</th>\n",
       "    </tr>\n",
       "  </thead>\n",
       "  <tbody>\n",
       "    <tr>\n",
       "      <th>0</th>\n",
       "      <td>24554067</td>\n",
       "      <td>submitted</td>\n",
       "      <td>None</td>\n",
       "      <td>script</td>\n",
       "      <td>/script</td>\n",
       "      <td>/cmmc/u/</td>\n",
       "      <td>janj/notebooks/2024/2024-11-22-scriptjob/test/</td>\n",
       "      <td>2024-11-23 07:31:07.632747</td>\n",
       "      <td>None</td>\n",
       "      <td>None</td>\n",
       "      <td>janj@cmti001#1#cmti</td>\n",
       "      <td>Script</td>\n",
       "      <td>0.1</td>\n",
       "      <td>None</td>\n",
       "      <td>None</td>\n",
       "    </tr>\n",
       "  </tbody>\n",
       "</table>\n",
       "</div>"
      ],
      "text/plain": [
       "         id     status chemicalformula     job   subjob projectpath  \\\n",
       "0  24554067  submitted            None  script  /script    /cmmc/u/   \n",
       "\n",
       "                                          project                  timestart  \\\n",
       "0  janj/notebooks/2024/2024-11-22-scriptjob/test/ 2024-11-23 07:31:07.632747   \n",
       "\n",
       "  timestop totalcputime             computer hamilton hamversion parentid  \\\n",
       "0     None         None  janj@cmti001#1#cmti   Script        0.1     None   \n",
       "\n",
       "  masterid  \n",
       "0     None  "
      ]
     },
     "execution_count": 8,
     "metadata": {},
     "output_type": "execute_result"
    }
   ],
   "source": [
    "pr.job_table()"
   ]
  },
  {
   "cell_type": "code",
   "execution_count": 10,
   "id": "63768ea2-9ca0-441e-b4d2-8b3220ab76a9",
   "metadata": {},
   "outputs": [],
   "source": [
    "pr.wait_for_job(job)"
   ]
  },
  {
   "cell_type": "code",
   "execution_count": 11,
   "id": "2dcbebdd-2f70-400d-aaf8-0b0ddfc3d5d3",
   "metadata": {},
   "outputs": [
    {
     "data": {
      "text/html": [
       "<div>\n",
       "<style scoped>\n",
       "    .dataframe tbody tr th:only-of-type {\n",
       "        vertical-align: middle;\n",
       "    }\n",
       "\n",
       "    .dataframe tbody tr th {\n",
       "        vertical-align: top;\n",
       "    }\n",
       "\n",
       "    .dataframe thead th {\n",
       "        text-align: right;\n",
       "    }\n",
       "</style>\n",
       "<table border=\"1\" class=\"dataframe\">\n",
       "  <thead>\n",
       "    <tr style=\"text-align: right;\">\n",
       "      <th></th>\n",
       "      <th>id</th>\n",
       "      <th>status</th>\n",
       "      <th>chemicalformula</th>\n",
       "      <th>job</th>\n",
       "      <th>subjob</th>\n",
       "      <th>projectpath</th>\n",
       "      <th>project</th>\n",
       "      <th>timestart</th>\n",
       "      <th>timestop</th>\n",
       "      <th>totalcputime</th>\n",
       "      <th>computer</th>\n",
       "      <th>hamilton</th>\n",
       "      <th>hamversion</th>\n",
       "      <th>parentid</th>\n",
       "      <th>masterid</th>\n",
       "    </tr>\n",
       "  </thead>\n",
       "  <tbody>\n",
       "    <tr>\n",
       "      <th>0</th>\n",
       "      <td>24554067</td>\n",
       "      <td>finished</td>\n",
       "      <td>None</td>\n",
       "      <td>script</td>\n",
       "      <td>/script</td>\n",
       "      <td>/cmmc/u/</td>\n",
       "      <td>janj/notebooks/2024/2024-11-22-scriptjob/test/</td>\n",
       "      <td>2024-11-23 07:31:44.034615</td>\n",
       "      <td>2024-11-23 07:32:02.922179</td>\n",
       "      <td>18.0</td>\n",
       "      <td>janj@cmti001#1#cmti</td>\n",
       "      <td>Script</td>\n",
       "      <td>0.1</td>\n",
       "      <td>None</td>\n",
       "      <td>None</td>\n",
       "    </tr>\n",
       "  </tbody>\n",
       "</table>\n",
       "</div>"
      ],
      "text/plain": [
       "         id    status chemicalformula     job   subjob projectpath  \\\n",
       "0  24554067  finished            None  script  /script    /cmmc/u/   \n",
       "\n",
       "                                          project                  timestart  \\\n",
       "0  janj/notebooks/2024/2024-11-22-scriptjob/test/ 2024-11-23 07:31:44.034615   \n",
       "\n",
       "                    timestop  totalcputime             computer hamilton  \\\n",
       "0 2024-11-23 07:32:02.922179          18.0  janj@cmti001#1#cmti   Script   \n",
       "\n",
       "  hamversion parentid masterid  \n",
       "0        0.1     None     None  "
      ]
     },
     "execution_count": 11,
     "metadata": {},
     "output_type": "execute_result"
    }
   ],
   "source": [
    "pr.job_table()"
   ]
  },
  {
   "cell_type": "code",
   "execution_count": null,
   "id": "c88401f7-ece7-4db4-8abc-5bb156986573",
   "metadata": {},
   "outputs": [],
   "source": []
  }
 ],
 "metadata": {
  "kernelspec": {
   "display_name": "janj",
   "language": "python",
   "name": "janj"
  },
  "language_info": {
   "codemirror_mode": {
    "name": "ipython",
    "version": 3
   },
   "file_extension": ".py",
   "mimetype": "text/x-python",
   "name": "python",
   "nbconvert_exporter": "python",
   "pygments_lexer": "ipython3",
   "version": "3.12.5"
  }
 },
 "nbformat": 4,
 "nbformat_minor": 5
}
